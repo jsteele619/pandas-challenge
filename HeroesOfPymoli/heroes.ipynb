

print("Total Number of Players:", len(purchase_data["SN"].value_counts()))
print("Number of Unique Items:", len(purchase_data["Item Name"].value_counts()))
print("Average Purchase Price:", purchase_data["Price"].mean())
print("Total Number of Purchases:", len(purchase_data["Purchase ID"]))
print("Total Revenue:", purchase_data["Price"].sum())

summary_df = pd.DataFrame({"Number of Unique Items": [len(purchase_data["Item Name"].value_counts())],
                          "Average Price": [purchase_data["Price"].mean()],
                          "Number of Purchases": [len(purchase_data["Purchase ID"])],
                          "Total Revenue": [purchase_data["Price"].sum()]})
summary_df

purchase_data_unique = purchase_data.drop_duplicates("SN")
sum_gender = purchase_data_unique.groupby('Gender').count()
sum_gender = pd.DataFrame({"Total Count": purchase_data_unique["Gender"].value_counts(),
                          "Percentage of Players": purchase_data_unique["Gender"].value_counts()/len(purchase_data_unique["SN"].value_counts())})

sum_gender